{
 "cells": [
  {
   "cell_type": "markdown",
   "id": "8db56bd4",
   "metadata": {},
   "source": [
    "#   Python Concepts for Data Science - Getting started with dictionaries\n"
   ]
  },
  {
   "cell_type": "markdown",
   "id": "a78feaf8",
   "metadata": {},
   "source": [
    "## 1) Initialization"
   ]
  },
  {
   "cell_type": "markdown",
   "id": "863149e2",
   "metadata": {},
   "source": [
    "Initialization of an empty dictionary:\n"
   ]
  },
  {
   "cell_type": "code",
   "execution_count": 1,
   "id": "10f44627",
   "metadata": {},
   "outputs": [
    {
     "name": "stdout",
     "output_type": "stream",
     "text": [
      "This an empty dictionary so its length is equal to  0\n",
      "Type:  <class 'dict'>\n",
      "This an empty dictionary so its length is equal to  0\n",
      "Type:  <class 'dict'>\n"
     ]
    }
   ],
   "source": [
    "#Method 1 \n",
    "empty_d = {}\n",
    "print('This an empty dictionary so its length is equal to ',len(empty_d))\n",
    "print('Type: ',type(empty_d))\n",
    "\n",
    "#Method 2\n",
    "empty_d2 = dict()\n",
    "print('This an empty dictionary so its length is equal to ',len(empty_d2))\n",
    "print('Type: ',type(empty_d2))"
   ]
  },
  {
   "cell_type": "markdown",
   "id": "2a4718c4",
   "metadata": {},
   "source": [
    "Creation of non empty dictionary:\n",
    "1) A comma-separated list of key:value pairs inside the braces.\n",
    "\n",
    "2) From sequences of key-value pairs using dict() constructor.\n",
    "\n",
    "3) Specify pairs using keyword arguments in case the keys are simple strings.\n",
    "\n",
    "4) Using key-value pairs expressions\n"
   ]
  },
  {
   "cell_type": "code",
   "execution_count": 19,
   "id": "fc72d6d6",
   "metadata": {},
   "outputs": [
    {
     "name": "stdout",
     "output_type": "stream",
     "text": [
      "{'Car': 'Black', 'Shirt': 'Red', 'Jeans': 'Blue'}\n",
      "The type of objects_colors:  <class 'dict'>\n",
      "The length of objects_colors:  3\n",
      "\n",
      " {'Tunisia': 'Tunis', 'France': 'Paris', 'Egypt': 'Cairo', 'Spain': 'Madrid'}\n",
      "The type of Country_capital:  <class 'dict'>\n",
      "The length of Country_capital:  4\n",
      "\n",
      " {'Tunisia': 'Arabic', 'USA': 'English', 'France': 'French', 'Spain': 'Spanish', 'Italy': 'Rome'}\n",
      "The type of Country_language:  <class 'dict'>\n",
      "The length of Country_language:  5\n",
      "\n",
      " {4: 2.0, 9: 3.0, 16: 4.0, 25: 5.0, 36: 6.0, 49: 7.0}\n",
      "The type of Nbr_Sqrt:  <class 'dict'>\n",
      "The length of Nbr_Sqrt:  6\n"
     ]
    }
   ],
   "source": [
    "#Method 1\n",
    "objects_colors = {'Car':'Black', 'Shirt':'Red', 'Jeans':'Blue'}\n",
    "print(objects_colors)\n",
    "print('The type of objects_colors: ',type(objects_colors))\n",
    "print('The length of objects_colors: ',len(objects_colors))\n",
    "\n",
    "#Method 2\n",
    "Country_capital = dict([('Tunisia', 'Tunis'), ('France', 'Paris'), ('Egypt', 'Cairo'),('Spain','Madrid')])\n",
    "print('\\n',Country_capital)\n",
    "print('The type of Country_capital: ',type(Country_capital))\n",
    "print('The length of Country_capital: ',len(Country_capital))\n",
    "\n",
    "#Method 3 \n",
    "Country_language = dict(Tunisia='Arabic', USA = 'English', France='French',Spain='Spanish',Italy='Rome')\n",
    "print('\\n',Country_language)\n",
    "print('The type of Country_language: ',type(Country_language))\n",
    "print('The length of Country_language: ',len(Country_language))\n",
    "\n",
    "#Method 4\n",
    "import math\n",
    "\n",
    "Nbr_Sqrt = {x: math.sqrt(x) for x in (4, 9, 16,25,36,49)}\n",
    "print('\\n',Nbr_Sqrt)\n",
    "print('The type of Nbr_Sqrt: ',type(Nbr_Sqrt))\n",
    "print('The length of Nbr_Sqrt: ',len(Nbr_Sqrt))"
   ]
  },
  {
   "cell_type": "markdown",
   "id": "fb88673c",
   "metadata": {},
   "source": [
    "## 2) Accessing Values"
   ]
  },
  {
   "cell_type": "code",
   "execution_count": 4,
   "id": "26104922",
   "metadata": {},
   "outputs": [
    {
     "name": "stdout",
     "output_type": "stream",
     "text": [
      "Tunis\n"
     ]
    }
   ],
   "source": [
    "print(Country_capital['Tunisia'])"
   ]
  },
  {
   "cell_type": "code",
   "execution_count": 20,
   "id": "d936df2d",
   "metadata": {},
   "outputs": [
    {
     "name": "stdout",
     "output_type": "stream",
     "text": [
      "Madrid\n"
     ]
    }
   ],
   "source": [
    "print(Country_capital.get('Spain'))"
   ]
  },
  {
   "cell_type": "markdown",
   "id": "9dd85cec",
   "metadata": {},
   "source": [
    "## 3) Updating values"
   ]
  },
  {
   "cell_type": "code",
   "execution_count": 9,
   "id": "b1de1352",
   "metadata": {},
   "outputs": [
    {
     "name": "stdout",
     "output_type": "stream",
     "text": [
      "objects_colors before change:  {'Car': 'Black', 'Shirt': 'Red', 'Jeans': 'Blue'}\n",
      "objects_colors after changing car color to yellow:  {'Car': 'Yellow', 'Shirt': 'Red', 'Jeans': 'Blue'}\n"
     ]
    }
   ],
   "source": [
    "#method 1\n",
    "\n",
    "print('objects_colors before change: ',objects_colors)\n",
    "objects_colors['Car']='Yellow'\n",
    "print('objects_colors after changing car color to yellow: ',objects_colors)"
   ]
  },
  {
   "cell_type": "code",
   "execution_count": 21,
   "id": "cded2055",
   "metadata": {},
   "outputs": [
    {
     "name": "stdout",
     "output_type": "stream",
     "text": [
      "objects_colors before change:  {'Car': 'Black', 'Shirt': 'Red', 'Jeans': 'Blue'}\n",
      "objects_colors after update:  {'Car': 'Black', 'Shirt': 'Green', 'Jeans': 'Black'}\n"
     ]
    }
   ],
   "source": [
    "#method 2\n",
    "\n",
    "update_colors={'Shirt':'Green','Jeans':'Black'}\n",
    "print('objects_colors before change: ',objects_colors)\n",
    "objects_colors.update(update_colors)\n",
    "print('objects_colors after update: ',objects_colors)"
   ]
  },
  {
   "cell_type": "markdown",
   "id": "512492f7",
   "metadata": {},
   "source": [
    "## 4) Deleting Values"
   ]
  },
  {
   "cell_type": "code",
   "execution_count": 22,
   "id": "3e59942a",
   "metadata": {},
   "outputs": [
    {
     "name": "stdout",
     "output_type": "stream",
     "text": [
      "Before deleting:  {'Tunisia': 'Tunis', 'France': 'Paris', 'Egypt': 'Cairo', 'Spain': 'Madrid'}\n",
      "('Spain', 'Madrid')\n",
      "After deleting using popitem():  {'Tunisia': 'Tunis', 'France': 'Paris', 'Egypt': 'Cairo'}\n",
      "Tunis\n",
      "After deleting using pop():  {'France': 'Paris', 'Egypt': 'Cairo'}\n",
      "After deleting using clear():  {}\n"
     ]
    }
   ],
   "source": [
    "#The popitem() method removes and returns the last element key-value pair inserted into the dictionary.\n",
    "print('Before deleting: ',Country_capital)\n",
    "print(Country_capital.popitem())\n",
    "print('After deleting using popitem(): ',Country_capital)\n",
    "# pop() removes and returns a value from a dictionary for a given key.\n",
    "\n",
    "print(Country_capital.pop('Tunisia'))\n",
    "print('After deleting using pop(): ',Country_capital)\n",
    "\n",
    "#clear() removes all items from the dictionary.\n",
    "Country_capital.clear()\n",
    "print('After deleting using clear(): ',Country_capital)"
   ]
  },
  {
   "cell_type": "markdown",
   "id": "c4f269e6",
   "metadata": {},
   "source": [
    "## 5) Some useful methods and techniques"
   ]
  },
  {
   "cell_type": "code",
   "execution_count": 23,
   "id": "a9502f73",
   "metadata": {},
   "outputs": [
    {
     "name": "stdout",
     "output_type": "stream",
     "text": [
      "{'Car': 'Black', 'Shirt': 'Green', 'Jeans': 'Black'}\n",
      "dict_keys(['Car', 'Shirt', 'Jeans'])\n",
      "dict_items([('Car', 'Black'), ('Shirt', 'Green'), ('Jeans', 'Black')])\n",
      "dict_values(['Black', 'Green', 'Black'])\n"
     ]
    }
   ],
   "source": [
    "print(objects_colors)\n",
    "#print keys\n",
    "print (objects_colors.keys())  \n",
    "\n",
    "#print key-value pair.\n",
    "print (objects_colors.items())\n",
    "\n",
    "#print  values\n",
    "print (objects_colors.values()) "
   ]
  },
  {
   "cell_type": "code",
   "execution_count": 28,
   "id": "4a2cfec9",
   "metadata": {},
   "outputs": [
    {
     "name": "stdout",
     "output_type": "stream",
     "text": [
      "Nbr_Sqrt:  {4: 2.0, 9: 3.0, 16: 4.0, 25: 5.0, 36: 6.0, 49: 7.0}\n",
      "<dict_itemiterator object at 0x00000174D22FF090>\n",
      "looping...\n",
      "(4, 2.0)\n",
      "(9, 3.0)\n",
      "(16, 4.0)\n",
      "(25, 5.0)\n",
      "(36, 6.0)\n",
      "(49, 7.0)\n"
     ]
    }
   ],
   "source": [
    "print('Nbr_Sqrt: ',Nbr_Sqrt)\n",
    "#Looping through the iterator\n",
    "i=Nbr_Sqrt.items()\n",
    "print (iter(i))\n",
    "print('looping...')\n",
    "for j in iter(i):\n",
    "    print (j)"
   ]
  },
  {
   "cell_type": "code",
   "execution_count": 32,
   "id": "6cf2ee5f",
   "metadata": {},
   "outputs": [
    {
     "name": "stdout",
     "output_type": "stream",
     "text": [
      "4 2.0\n",
      "9 3.0\n",
      "16 4.0\n",
      "25 5.0\n",
      "36 6.0\n",
      "49 7.0\n"
     ]
    }
   ],
   "source": [
    "for i,j in Nbr_Sqrt.items():\n",
    "    print(i,j)"
   ]
  },
  {
   "cell_type": "code",
   "execution_count": 33,
   "id": "2dd621ad",
   "metadata": {},
   "outputs": [
    {
     "name": "stdout",
     "output_type": "stream",
     "text": [
      "True\n"
     ]
    }
   ],
   "source": [
    "print('Car' in objects_colors)"
   ]
  }
 ],
 "metadata": {
  "kernelspec": {
   "display_name": "Python 3 (ipykernel)",
   "language": "python",
   "name": "python3"
  },
  "language_info": {
   "codemirror_mode": {
    "name": "ipython",
    "version": 3
   },
   "file_extension": ".py",
   "mimetype": "text/x-python",
   "name": "python",
   "nbconvert_exporter": "python",
   "pygments_lexer": "ipython3",
   "version": "3.9.6"
  }
 },
 "nbformat": 4,
 "nbformat_minor": 5
}
