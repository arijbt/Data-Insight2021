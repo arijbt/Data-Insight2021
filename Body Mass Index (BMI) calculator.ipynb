{
 "cells": [
  {
   "cell_type": "markdown",
   "id": "f09eb325",
   "metadata": {},
   "source": [
    "This is a simple app using python to calculate the BMI from a given weight and height as well as BMI category classification.\n",
    "\n"
   ]
  },
  {
   "cell_type": "code",
   "execution_count": 3,
   "id": "9f6be060",
   "metadata": {},
   "outputs": [],
   "source": [
    "def BMI(weight, height):\n",
    "    return (weight/ (height**2))"
   ]
  },
  {
   "cell_type": "code",
   "execution_count": 5,
   "id": "bda79155",
   "metadata": {},
   "outputs": [
    {
     "name": "stdout",
     "output_type": "stream",
     "text": [
      "Please enter your weight in kg 60\n",
      "Please enter your height in meters 1.60\n",
      "Your Body Mass Index is: 23.437499999999996\n",
      "Normal weight!\n"
     ]
    }
   ],
   "source": [
    "weight=float(input(\"Please enter your weight in kg: \"))\n",
    "height = float(input(\"Please enter your height in meters: \"))\n",
    "bmi = BMI(weight,height)\n",
    "print(\"Your Body Mass Index is: \"+ str(bmi))\n",
    "if bmi<18.5:\n",
    "    print(\"Underweight!\")\n",
    "elif bmi>=18.5 and bmi<=24.9:\n",
    "    print(\"Normal weight!\")\n",
    "elif bmi>=25 and bmi<=29.9:\n",
    "    print(\"Overweight!\")\n",
    "else:\n",
    "    print(\"Obesity!\")"
   ]
  }
 ],
 "metadata": {
  "kernelspec": {
   "display_name": "Python 3 (ipykernel)",
   "language": "python",
   "name": "python3"
  },
  "language_info": {
   "codemirror_mode": {
    "name": "ipython",
    "version": 3
   },
   "file_extension": ".py",
   "mimetype": "text/x-python",
   "name": "python",
   "nbconvert_exporter": "python",
   "pygments_lexer": "ipython3",
   "version": "3.9.6"
  }
 },
 "nbformat": 4,
 "nbformat_minor": 5
}
