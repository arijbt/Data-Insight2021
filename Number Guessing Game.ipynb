{
 "cells": [
  {
   "cell_type": "code",
   "execution_count": null,
   "id": "d467f0e6",
   "metadata": {},
   "outputs": [
    {
     "name": "stdout",
     "output_type": "stream",
     "text": [
      "\n",
      "\n",
      "\tYou have to guess a number between 1 and 200! \n",
      "\tYou have only 8 attempts to be a winner!\n",
      "\n",
      "Guess a number: 100\n",
      "You guessed a number that is greater than the required number!\n",
      "\n",
      "Guess a number: 50\n",
      "You guessed a number that is greater than the required number!\n",
      "\n",
      "Guess a number: 25\n",
      "Congratulations you did it! You are a winner after 3 tries.\n"
     ]
    }
   ],
   "source": [
    "import random\n",
    "\n",
    "repeat = True\n",
    "while repeat == True:\n",
    "    \n",
    "    # Generating random number between 1 and 200\n",
    "\n",
    "    number_generated = random.randint(1, 200)\n",
    "    print(\"\\n\\n\\tYou have to guess a number between 1 and 200! \\n\\tYou have only 8 attempts to be a winner!\")\n",
    "\n",
    "    #Counter for the number of guesses.\n",
    "    count = 0\n",
    "\n",
    "    while count < 8:\n",
    "        count += 1\n",
    "        guess_number = int(input(\"\\nGuess a number: \"))\n",
    "\n",
    "\n",
    "        if number_generated == guess_number:\n",
    "            print(\"Congratulations you did it! You are a winner after \"+str(count)+\" tries.\")\n",
    "            break\n",
    "        elif number_generated > guess_number:\n",
    "            print(\"You guessed a number that is smaller than the required number!\")\n",
    "        else:\n",
    "            print(\"You guessed a number that is greater than the required number!\")\n",
    "\n",
    "    # shows this output.\n",
    "    if count >= 8 and guess_number!=number_generated:\n",
    "        print(\"\\n\\n\\tYou lost the game. The number is \"+ str(number_generated))\n",
    "    repeat_choice = \"\"\n",
    "        \n",
    "    while (repeat_choice!=\"Y\" and repeat_choice!=\"N\"):\n",
    "        repeat_choice = input(\"\\n\\tWould you like to play again? Type Y for yes and N for No!\")\n",
    "    if repeat_choice == \"N\":\n",
    "        repeat= False\n",
    "        "
   ]
  },
  {
   "cell_type": "code",
   "execution_count": null,
   "id": "985ad706",
   "metadata": {},
   "outputs": [],
   "source": []
  }
 ],
 "metadata": {
  "kernelspec": {
   "display_name": "Python 3 (ipykernel)",
   "language": "python",
   "name": "python3"
  },
  "language_info": {
   "codemirror_mode": {
    "name": "ipython",
    "version": 3
   },
   "file_extension": ".py",
   "mimetype": "text/x-python",
   "name": "python",
   "nbconvert_exporter": "python",
   "pygments_lexer": "ipython3",
   "version": "3.9.6"
  }
 },
 "nbformat": 4,
 "nbformat_minor": 5
}
